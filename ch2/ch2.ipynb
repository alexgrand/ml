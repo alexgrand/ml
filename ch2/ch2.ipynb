{
 "cells": [
  {
   "cell_type": "markdown",
   "id": "bdc4d64e8bf63870",
   "metadata": {
    "collapsed": false
   },
   "source": [
    "<a href=\"https://colab.research.google.com/github/alexgrand/ml/blob/main/ch2/ch2.ipynb\" target=\"_parent\"><img src=\"https://colab.research.google.com/assets/colab-badge.svg\" alt=\"Open In Colab\"/></a>"
   ]
  },
  {
   "cell_type": "markdown",
   "id": "80ef42a7d1d09cb8",
   "metadata": {
    "collapsed": false
   },
   "source": [
    "# House prediction project"
   ]
  },
  {
   "cell_type": "markdown",
   "id": "ae55b7139ac3ca9f",
   "metadata": {
    "collapsed": false
   },
   "source": [
    "We are going to use California Housing Prices dataset from the Statlib repository to predict prices on \n",
    "houses in California. This data includes metrics such as the population, median income, and median housing price\n",
    "for each block group in California. Block groups are the smallest geographical unit for which the US Census Bureau\n",
    "publishes sample data (a block group typically has a population of 600 to 3,000 people). This blocks will be called\n",
    "districts for the simplicity."
   ]
  },
  {
   "cell_type": "markdown",
   "id": "ee69e4deaedfc0c2",
   "metadata": {
    "collapsed": false
   },
   "source": [
    "## Frame the problem\n",
    "1. **Business objective:** this prediction of a district's median housing price will be fed to another machine learning\n",
    "system, along with many other signals. The downstream system will define if whether it is worth investigating in a\n",
    "given area.\n",
    "2. **Current solution:** the district housing prices are currently estimated manually by experts: a team gathers \n",
    "up-to-date information about a district, and when they cannot get the median housing price, they estimate it using \n",
    "complex rules. This is costly and time-consuming, and their estimates are not great; in cases where they manage to find\n",
    "out the actual median housing price, they often realize that their estimates were off by more than 30%.\n",
    "This is why the company thinks that it would be useful to train a model to predict a district’s median housing price, \n",
    "given other data about that district.\n",
    "3. **Data:** labeled data. The census data looks like a great dataset to exploit for this purpose, since it includes\n",
    "the median housing prices of thousands of districts, as well as other data\n",
    "4. **Training Model:**\n",
    "    - This is clearly a typical __supervised learning task__, since the model can be trained\n",
    "    with labeled examples (each instance comes with the expected output, i.e., the district’s median housing price).\n",
    "    -  It is a typical __regression task__, since the model will be asked to predict a value. More specifically,\n",
    "    this is a __multiple regression problem__, since the system will use multiple features to make a prediction (the \n",
    "    district’s population, the median income, etc.). It is also a __univariate__ regression problem, since we are only \n",
    "    trying to predict a single value for each district.\n",
    "    - There is no continuous flow of data coming into the system, there is no particular need to adjust data rapidly,\n",
    "    and the data is small enough to fit in memory, so __plain batch learning__ should be enough.\n",
    "5. **Select a Performance Measure:** we could use typical performance measure for regression problems:\\\n",
    "_The root mean square error (RMSE)_:\\\n",
    "$\\text{RMSE}(\\textbf{X},h) = \\sqrt{\\frac{1}{m}\\sum_{i=1}^\\textit{m}(\\textit{h}(\\textbf{x}^{(i)} - y^{(i)})^2}$.\\\n",
    "But in case if there would be too much outliers we could use _Mean Absolute Error (MAE)_:\\\n",
    "$\\text{MAE}(\\textbf{X},h)=\\frac{1}{m}\\sum^{m}_{i=1}|{h(\\textbf{x}^{(i)}) - y^{(i)}}|$.\n",
    "_RMSE_ is so-called Euclidean norm or ℓ2 norm that is denoted as $∥ · ∥$. MAE corresponds to the ℓ1 norm, noted $∥ · ∥_1$\n",
    "(This is sometimes called the Manhattan norm because it measures the distanc between two points in a city if you \n",
    "can only travel along orthogonal city blocks)\n",
    "<br>**NOTE:**</br>\n",
    "The higher the norm index, the more it focuses on large values and neglects small ones. This is why the RMSE is \n",
    "more sensitive to outliers than the MAE. But when outliers are exponentially rare (like in a bell-shaped curve), \n",
    "the RMSE performs very well and is generally preferred.\n",
    "6. **Check the assumptions:** we have talked to the team that works on downstream system. It looks like they do really\n",
    "need just prices from our prediction model. But in case if they would for example convert our outcomes into the categories\n",
    "like `cheap`, `medium`, `expensive` houses we would need to frame our problem as a classification task.\n",
    "7. **The minimum performance needed** to reach the business objective: N/A\n",
    "8. **Any comparable problems, reusable models:** N/A\n",
    "9. **Is human expertise available:** N/A"
   ]
  },
  {
   "cell_type": "markdown",
   "source": [],
   "metadata": {
    "collapsed": false
   },
   "id": "67cd52d3418eb95"
  }
 ],
 "metadata": {
  "kernelspec": {
   "display_name": "Python 3 (ipykernel)",
   "language": "python",
   "name": "python3"
  },
  "language_info": {
   "codemirror_mode": {
    "name": "ipython",
    "version": 3
   },
   "file_extension": ".py",
   "mimetype": "text/x-python",
   "name": "python",
   "nbconvert_exporter": "python",
   "pygments_lexer": "ipython3",
   "version": "3.10.12"
  }
 },
 "nbformat": 4,
 "nbformat_minor": 5
}
