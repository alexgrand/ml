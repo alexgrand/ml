{
 "cells": [
  {
   "cell_type": "markdown",
   "metadata": {
    "id": "view-in-github",
    "colab_type": "text"
   },
   "source": [
    "<a href=\"https://colab.research.google.com/github/alexgrand/ml/blob/main/ch1/ch1-1.ipynb\" target=\"_parent\"><img src=\"https://colab.research.google.com/assets/colab-badge.svg\" alt=\"Open In Colab\"/></a>"
   ],
   "id": "9c425e7251b23caf"
  },
  {
   "cell_type": "markdown",
   "source": [
    "# The ratio of a country's GDP to the happiness of its citizens\n",
    "In this notebook we are trying to find correlation between countries GDP and citizen's happiness."
   ],
   "metadata": {
    "id": "RAW_Snj16Muz"
   },
   "id": "RAW_Snj16Muz"
  },
  {
   "cell_type": "markdown",
   "source": [
    "### Verify python version"
   ],
   "metadata": {
    "collapsed": false
   },
   "id": "9da170bba5d70659"
  },
  {
   "cell_type": "code",
   "execution_count": null,
   "outputs": [],
   "source": [
    "import sys\n",
    "print(sys.version)\n",
    "assert sys.version_info >= (3, 10)"
   ],
   "metadata": {
    "id": "a36a3079a436a2c2",
    "outputId": "05209e27-b8d6-471f-b2a4-fcbbe6eee0c6"
   },
   "id": "a36a3079a436a2c2"
  },
  {
   "cell_type": "markdown",
   "source": [
    "### Import required packages\n",
    "Run model with Linear regression"
   ],
   "metadata": {
    "collapsed": false
   },
   "id": "3550a80db7d108d2"
  },
  {
   "cell_type": "code",
   "execution_count": null,
   "outputs": [],
   "source": [
    "import matplotlib.pyplot as plt\n",
    "import numpy as np\n",
    "import pandas as pd\n",
    "from sklearn.linear_model import LinearRegression"
   ],
   "metadata": {
    "collapsed": false
   },
   "id": "1360c325f189e050"
  },
  {
   "cell_type": "markdown",
   "source": [
    "### Download and prepare the data"
   ],
   "metadata": {
    "collapsed": false
   },
   "id": "7a6bd5a0dfc55762"
  },
  {
   "cell_type": "code",
   "execution_count": null,
   "outputs": [],
   "source": [
    "data_root = \"https://github.com/ageron/data/raw/main/\"\n",
    "lifesat = pd.read_csv(data_root + \"lifesat/lifesat.csv\")\n",
    "X = lifesat[[\"GDP per capita (USD)\"]].values\n",
    "y = lifesat[[\"Life satisfaction\"]].values"
   ],
   "metadata": {
    "collapsed": false
   },
   "id": "d30c9f98849afb97"
  },
  {
   "cell_type": "markdown",
   "source": [
    "### Visualize the data"
   ],
   "metadata": {
    "collapsed": false
   },
   "id": "75155b155e0d50f8"
  },
  {
   "cell_type": "code",
   "execution_count": null,
   "outputs": [],
   "source": [
    "lifesat.plot(kind='scatter', grid=True,\n",
    "             x=\"GDP per capita (USD)\", y=\"Life satisfaction\")\n",
    "plt.axis([23_500, 62_500, 4, 9])\n",
    "plt.show()"
   ],
   "metadata": {
    "collapsed": false
   },
   "id": "f7a9e1828f36506d"
  },
  {
   "cell_type": "markdown",
   "source": [
    "### Select a linear model"
   ],
   "metadata": {
    "collapsed": false
   },
   "id": "d4356f0d5d2e2551"
  },
  {
   "cell_type": "code",
   "execution_count": null,
   "outputs": [],
   "source": [
    "model = LinearRegression()\n",
    "\n",
    "# Train the model\n",
    "model.fit(X, y)\n",
    "\n",
    "# Make a prediction for Cyprus\n",
    "X_new = [[37_655.2]]  # Cyprus' GDP per capita in 2020\n",
    "print(model.predict(X_new)) # outputs [[6.30165767]]"
   ],
   "metadata": {
    "collapsed": false
   },
   "id": "6d1f71d9c21225b"
  }
 ],
 "metadata": {
  "kernelspec": {
   "display_name": "Python 3 (ipykernel)",
   "language": "python",
   "name": "python3"
  },
  "language_info": {
   "codemirror_mode": {
    "name": "ipython",
    "version": 3
   },
   "file_extension": ".py",
   "mimetype": "text/x-python",
   "name": "python",
   "nbconvert_exporter": "python",
   "pygments_lexer": "ipython3",
   "version": "3.10.12"
  },
  "colab": {
   "provenance": [],
   "include_colab_link": true
  }
 },
 "nbformat": 4,
 "nbformat_minor": 5
}
