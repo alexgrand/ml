{
 "cells": [
  {
   "cell_type": "markdown",
   "id": "9941e9e92dc1c63a",
   "metadata": {
    "colab_type": "text",
    "id": "view-in-github"
   },
   "source": [
    "<a href=\"https://colab.research.google.com/github/alexgrand/ml/blob/main/ch1/ch1-1.ipynb\" target=\"_parent\"><img src=\"https://colab.research.google.com/assets/colab-badge.svg\" alt=\"Open In Colab\"/></a>"
   ]
  },
  {
   "cell_type": "markdown",
   "id": "RAW_Snj16Muz",
   "metadata": {
    "id": "RAW_Snj16Muz"
   },
   "source": [
    "# The ratio of a country's GDP to the happiness of its citizens\n",
    "In this notebook we are trying to find correlation between countries GDP and citizen's happiness."
   ]
  },
  {
   "cell_type": "markdown",
   "id": "9da170bba5d70659",
   "metadata": {
    "collapsed": false,
    "id": "9da170bba5d70659",
    "jupyter": {
     "outputs_hidden": false
    }
   },
   "source": [
    "### Verify python version"
   ]
  },
  {
   "cell_type": "code",
   "execution_count": 1,
   "id": "a36a3079a436a2c2",
   "metadata": {
    "ExecuteTime": {
     "end_time": "2023-10-17T15:46:48.769994700Z",
     "start_time": "2023-10-17T15:46:48.626587800Z"
    },
    "colab": {
     "base_uri": "https://localhost:8080/"
    },
    "id": "a36a3079a436a2c2",
    "outputId": "2e06f80b-b05b-494d-ded7-4b18545d9cb5"
   },
   "outputs": [
    {
     "name": "stdout",
     "output_type": "stream",
     "text": [
      "3.10.12 | packaged by conda-forge | (main, Jun 23 2023, 22:40:32) [GCC 12.3.0]\n"
     ]
    }
   ],
   "source": [
    "import sys\n",
    "print(sys.version)\n",
    "assert sys.version_info >= (3, 10)"
   ]
  },
  {
   "cell_type": "markdown",
   "id": "04257ddb-5e6d-4e8a-b71f-bc76ae0827e0",
   "metadata": {},
   "source": [
    "## Install required packages"
   ]
  },
  {
   "cell_type": "code",
   "execution_count": null,
   "id": "73da2bc5-f05b-41fd-8d32-fa7496444d1a",
   "metadata": {},
   "outputs": [
    {
     "name": "stdout",
     "output_type": "stream",
     "text": [
      "Requirement already satisfied: numpy in /home/alex/miniconda3/envs/ml-study/lib/python3.10/site-packages (1.26.0)\n",
      "Requirement already satisfied: pandas in /home/alex/miniconda3/envs/ml-study/lib/python3.10/site-packages (2.1.1)\n",
      "Requirement already satisfied: matplotlib in /home/alex/miniconda3/envs/ml-study/lib/python3.10/site-packages (3.8.0)\n",
      "Requirement already satisfied: scikit-learn in /home/alex/miniconda3/envs/ml-study/lib/python3.10/site-packages (1.3.1)\n",
      "Requirement already satisfied: python-dateutil>=2.8.2 in /home/alex/miniconda3/envs/ml-study/lib/python3.10/site-packages (from pandas) (2.8.2)\n",
      "Requirement already satisfied: pytz>=2020.1 in /home/alex/miniconda3/envs/ml-study/lib/python3.10/site-packages (from pandas) (2023.3.post1)\n",
      "Requirement already satisfied: tzdata>=2022.1 in /home/alex/miniconda3/envs/ml-study/lib/python3.10/site-packages (from pandas) (2023.3)\n",
      "Requirement already satisfied: contourpy>=1.0.1 in /home/alex/miniconda3/envs/ml-study/lib/python3.10/site-packages (from matplotlib) (1.1.1)\n",
      "Requirement already satisfied: cycler>=0.10 in /home/alex/miniconda3/envs/ml-study/lib/python3.10/site-packages (from matplotlib) (0.12.1)\n",
      "Requirement already satisfied: fonttools>=4.22.0 in /home/alex/miniconda3/envs/ml-study/lib/python3.10/site-packages (from matplotlib) (4.43.1)\n",
      "Requirement already satisfied: kiwisolver>=1.0.1 in /home/alex/miniconda3/envs/ml-study/lib/python3.10/site-packages (from matplotlib) (1.4.5)\n",
      "Requirement already satisfied: packaging>=20.0 in /home/alex/miniconda3/envs/ml-study/lib/python3.10/site-packages (from matplotlib) (23.2)\n",
      "Requirement already satisfied: pillow>=6.2.0 in /home/alex/miniconda3/envs/ml-study/lib/python3.10/site-packages (from matplotlib) (10.0.1)\n",
      "Requirement already satisfied: pyparsing>=2.3.1 in /home/alex/miniconda3/envs/ml-study/lib/python3.10/site-packages (from matplotlib) (3.1.1)\n",
      "Requirement already satisfied: scipy>=1.5.0 in /home/alex/miniconda3/envs/ml-study/lib/python3.10/site-packages (from scikit-learn) (1.11.3)\n",
      "Requirement already satisfied: joblib>=1.1.1 in /home/alex/miniconda3/envs/ml-study/lib/python3.10/site-packages (from scikit-learn) (1.3.2)\n",
      "Requirement already satisfied: threadpoolctl>=2.0.0 in /home/alex/miniconda3/envs/ml-study/lib/python3.10/site-packages (from scikit-learn) (3.2.0)\n",
      "Requirement already satisfied: six>=1.5 in /home/alex/miniconda3/envs/ml-study/lib/python3.10/site-packages (from python-dateutil>=2.8.2->pandas) (1.16.0)\n"
     ]
    }
   ],
   "source": [
    "!pip install numpy pandas matplotlib scikit-learn"
   ]
  },
  {
   "cell_type": "markdown",
   "id": "3550a80db7d108d2",
   "metadata": {
    "collapsed": false,
    "id": "3550a80db7d108d2",
    "jupyter": {
     "outputs_hidden": false
    }
   },
   "source": [
    "### Import required packages\n",
    "Run model with Linear regression"
   ]
  },
  {
   "cell_type": "code",
   "execution_count": null,
   "id": "1360c325f189e050",
   "metadata": {
    "ExecuteTime": {
     "end_time": "2023-10-17T15:47:01.210263800Z",
     "start_time": "2023-10-17T15:46:49.054670Z"
    },
    "id": "1360c325f189e050"
   },
   "outputs": [],
   "source": [
    "import matplotlib.pyplot as plt\n",
    "import numpy as np\n",
    "import pandas as pd\n",
    "from sklearn.linear_model import LinearRegression\n",
    "from sklearn.neighbors import KNeighborsRegressor"
   ]
  },
  {
   "cell_type": "markdown",
   "id": "7a6bd5a0dfc55762",
   "metadata": {
    "collapsed": false,
    "id": "7a6bd5a0dfc55762",
    "jupyter": {
     "outputs_hidden": false
    }
   },
   "source": [
    "### Download and prepare the data"
   ]
  },
  {
   "cell_type": "code",
   "execution_count": null,
   "id": "d30c9f98849afb97",
   "metadata": {
    "ExecuteTime": {
     "end_time": "2023-10-17T15:47:03.155771600Z",
     "start_time": "2023-10-17T15:47:01.210263800Z"
    },
    "id": "d30c9f98849afb97"
   },
   "outputs": [],
   "source": [
    "data_root = \"https://github.com/ageron/data/raw/main/\"\n",
    "lifesat = pd.read_csv(data_root + \"lifesat/lifesat.csv\")\n",
    "X = lifesat[[\"GDP per capita (USD)\"]].values\n",
    "y = lifesat[[\"Life satisfaction\"]].values"
   ]
  },
  {
   "cell_type": "markdown",
   "id": "75155b155e0d50f8",
   "metadata": {
    "collapsed": false,
    "id": "75155b155e0d50f8",
    "jupyter": {
     "outputs_hidden": false
    }
   },
   "source": [
    "### Visualize the data"
   ]
  },
  {
   "cell_type": "code",
   "execution_count": null,
   "id": "f7a9e1828f36506d",
   "metadata": {
    "ExecuteTime": {
     "end_time": "2023-10-17T15:47:04.716059900Z",
     "start_time": "2023-10-17T15:47:03.155771600Z"
    },
    "colab": {
     "base_uri": "https://localhost:8080/",
     "height": 455
    },
    "id": "f7a9e1828f36506d",
    "outputId": "24f32514-de06-4b5b-a827-8d98e0c84db0"
   },
   "outputs": [],
   "source": [
    "lifesat.plot(kind='scatter', grid=True,\n",
    "             x=\"GDP per capita (USD)\", y=\"Life satisfaction\")\n",
    "plt.axis([23_500, 62_500, 4, 9])\n",
    "plt.show()"
   ]
  },
  {
   "cell_type": "markdown",
   "id": "d4356f0d5d2e2551",
   "metadata": {
    "collapsed": false,
    "id": "d4356f0d5d2e2551",
    "jupyter": {
     "outputs_hidden": false
    }
   },
   "source": [
    "### Select a linear model"
   ]
  },
  {
   "cell_type": "code",
   "execution_count": null,
   "id": "6d1f71d9c21225b",
   "metadata": {
    "ExecuteTime": {
     "end_time": "2023-10-17T15:47:04.722063700Z",
     "start_time": "2023-10-17T15:47:04.716059900Z"
    },
    "colab": {
     "base_uri": "https://localhost:8080/"
    },
    "id": "6d1f71d9c21225b",
    "outputId": "69ada931-e639-420b-ddb0-4eb2946dacb1"
   },
   "outputs": [],
   "source": [
    "model = LinearRegression()\n",
    "\n",
    "# Train the model\n",
    "model.fit(X, y)\n",
    "\n",
    "# Make a prediction for Cyprus\n",
    "X_new = [[37_655.2]]  # Cyprus' GDP per capita in 2020\n",
    "print(\"Cyprus happiness prediction with linear model:\", model.predict(X_new)) # outputs [[6.30165767]]"
   ]
  },
  {
   "cell_type": "markdown",
   "id": "24RoXQfG_Dk1",
   "metadata": {
    "id": "24RoXQfG_Dk1"
   },
   "source": [
    "### Select a K-neighbours model with n_neighbors=3"
   ]
  },
  {
   "cell_type": "code",
   "execution_count": null,
   "id": "OqNem0GT_lRM",
   "metadata": {
    "ExecuteTime": {
     "end_time": "2023-10-17T15:47:05.097719700Z",
     "start_time": "2023-10-17T15:47:04.722063700Z"
    },
    "colab": {
     "base_uri": "https://localhost:8080/"
    },
    "id": "OqNem0GT_lRM",
    "outputId": "e2ef9c33-9090-4f55-9de1-be804afcd6ec"
   },
   "outputs": [],
   "source": [
    "model = KNeighborsRegressor(n_neighbors=3)\n",
    "\n",
    "# Train the model\n",
    "model.fit(X, y)\n",
    "\n",
    "# Make a prediction for Cyprus\n",
    "X_new = [[37_655.2]]  # Cyprus' GDP per capita in 2020\n",
    "print(\"Cyprus happiness prediction with K-neighbors algorythm:\", model.predict(X_new)) # outputs [[6.30165767]]"
   ]
  }
 ],
 "metadata": {
  "colab": {
   "include_colab_link": true,
   "provenance": []
  },
  "kernelspec": {
   "display_name": "Python 3 (ipykernel)",
   "language": "python",
   "name": "python3"
  },
  "language_info": {
   "codemirror_mode": {
    "name": "ipython",
    "version": 3
   },
   "file_extension": ".py",
   "mimetype": "text/x-python",
   "name": "python",
   "nbconvert_exporter": "python",
   "pygments_lexer": "ipython3",
   "version": "3.10.12"
  }
 },
 "nbformat": 4,
 "nbformat_minor": 5
}
